{
 "cells": [
  {
   "cell_type": "markdown",
   "metadata": {},
   "source": [
    "# % Project a point from 3D to 2D using a matrix operation\n",
    "\n",
    "%% Input: Point p in 3-space [x y z], and focal length f\n",
    "\n",
    "%% Output: Location of projected point on 2D image plane [u v]"
   ]
  },
  {
   "cell_type": "code",
   "execution_count": 65,
   "metadata": {},
   "outputs": [],
   "source": [
    "import numpy as np\n",
    "# Test: Given point and focal length (units: mm)\n",
    "p=np.array([[200,100,100]])\n",
    "f=50"
   ]
  },
  {
   "cell_type": "code",
   "execution_count": 66,
   "metadata": {},
   "outputs": [],
   "source": [
    "def p_point(p,f):\n",
    "    #define projection matrix(size=3x4)\n",
    "    A=np.array([[f,0,0,0],\n",
    "              [0,f,0,0],\n",
    "              [0,0,1,0]])\n",
    "    \n",
    "    #convert p to homegeneous coordinates and transpose(size=4x1)\n",
    "    b=np.array([[1]])\n",
    "    p_h=np.append(p,b,axis=1)\n",
    "    p_hom=p_h.transpose()\n",
    "    \n",
    "    #apply projection transformation\n",
    "    p_proj=np.dot(A,p_hom)\n",
    "    \n",
    "    #convert back to non-homegenous coordinates and return\n",
    "    p_img=[(p_proj[0,0]/p_proj[2,0]),(p_proj[1,0]/p_proj[2,0])]\n",
    "    print(p_img)"
   ]
  },
  {
   "cell_type": "code",
   "execution_count": 67,
   "metadata": {},
   "outputs": [
    {
     "name": "stdout",
     "output_type": "stream",
     "text": [
      "[100.0, 50.0]\n"
     ]
    }
   ],
   "source": [
    "p_point(p,f)"
   ]
  },
  {
   "cell_type": "code",
   "execution_count": null,
   "metadata": {},
   "outputs": [],
   "source": []
  }
 ],
 "metadata": {
  "kernelspec": {
   "display_name": "Python 3",
   "language": "python",
   "name": "python3"
  },
  "language_info": {
   "codemirror_mode": {
    "name": "ipython",
    "version": 3
   },
   "file_extension": ".py",
   "mimetype": "text/x-python",
   "name": "python",
   "nbconvert_exporter": "python",
   "pygments_lexer": "ipython3",
   "version": "3.8.5"
  }
 },
 "nbformat": 4,
 "nbformat_minor": 4
}
